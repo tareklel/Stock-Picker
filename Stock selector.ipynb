{
 "cells": [
  {
   "cell_type": "markdown",
   "metadata": {},
   "source": [
    "## Build an Optimal Diversified Portfolio Based on My Stock Picks"
   ]
  },
  {
   "cell_type": "markdown",
   "metadata": {
    "collapsed": false
   },
   "source": [
    "After careful research I picked 13 stocks I would like to invest in. The question now is how will I split my money between these stocks.\n",
    "My 'optimal' portfolio should meet the following conditions:\n",
    "- Annual expected Return >12% including dividends\n",
    "- Includes all stock picks, and no single stock >15% than my portfolio\n",
    "- Technology stock should be<40% the total size of my portfolio\n",
    "- Average Beta <1\n",
    "- I want the portfolio to have the highest return at the lowest beta\n"
   ]
  },
  {
   "cell_type": "code",
   "execution_count": 6,
   "metadata": {
    "collapsed": true
   },
   "outputs": [],
   "source": [
    "import pandas as pd\n",
    "import random\n",
    "url=\"https://raw.githubusercontent.com/tareklel/Stock-Picker/master/Stock%20Spreadsheet%20-%20Sheet1.csv\"\n",
    "stocks=pd.read_csv(url)\n",
    "#only select stock I picked\n",
    "stocks=stocks[stocks[\"Yes/No\"]==\"Yes\"].reset_index()"
   ]
  },
  {
   "cell_type": "code",
   "execution_count": 69,
   "metadata": {
    "collapsed": false
   },
   "outputs": [
    {
     "name": "stdout",
     "output_type": "stream",
     "text": [
      "            Stock Expected Annual Growth in Earning  Beta\n",
      "0            Nike                             13.30  0.67\n",
      "1       Accenture                              9.00  1.10\n",
      "2          Boeing                             15.90  1.29\n",
      "3          Disney                              4.30  1.02\n",
      "4            BB&T                             12.50  1.14\n",
      "5             J&J                              8.20  0.67\n",
      "6   United Health                             10.70  0.80\n",
      "7            Visa                             12.30  1.00\n",
      "8          Amazon                             30.30  1.77\n",
      "9       Microsoft                             10.80  1.21\n",
      "10         Google                             16.00  1.04\n",
      "11     Salesforce                             17.00  1.38\n",
      "12        Verizon                              7.90  0.49\n"
     ]
    }
   ],
   "source": [
    "print(stocks[[\"Stock\",\"Expected Annual Growth in Earning\",\"Beta\"]])"
   ]
  },
  {
   "cell_type": "code",
   "execution_count": 7,
   "metadata": {
    "collapsed": false
   },
   "outputs": [],
   "source": [
    "#Format percentage from str to float\n",
    "stocks['Expected Annual Growth in Earning']=stocks['Expected Annual Growth in Earning'].str.replace(\"%\",\"\")\n",
    "stocks['Annual Dividend Income']=stocks['Annual Dividend Income'].str.replace(\"%\",\"\")"
   ]
  },
  {
   "cell_type": "markdown",
   "metadata": {
    "collapsed": false
   },
   "source": [
    "Let's say I have a 1000USD to split between my 13 stocks\n",
    "I want to create 10^5 random iterations of splitting a 1000 into 13 intervals such that \n",
    "no stock is less than 2% and greater than 15% of the total portfolio"
   ]
  },
  {
   "cell_type": "code",
   "execution_count": 84,
   "metadata": {
    "collapsed": false
   },
   "outputs": [],
   "source": [
    "combo_list=[]\n",
    "for a in range(10000):\n",
    "    split=[]\n",
    "    for cubicle in range(12):\n",
    "        #20/1000 is 2% while 150/1000 is 15% so integer should be between 20 and 150 \n",
    "        cubicle=random.randint(20, 150)\n",
    "        split.append(cubicle)\n",
    "    #The final integer is the difference between all previous integer and 1000    \n",
    "    split.append(1000-sum(split))\n",
    "    #Filter out splits that don't meet our conditions including negative integers in the 13th slot\n",
    "    if split[12]>10 and split[12]<150:\n",
    "        split=[x/1000 for x in split]\n",
    "        #Shuffle splits in case there will be a bias in the 13th slot since it was created differently\n",
    "        random.shuffle(split)\n",
    "        #Make sure tech stock <40% of portfolio\n",
    "        if (split[8]+split[9]+split[10]+split[11])<401:\n",
    "            combo_list.append(split)"
   ]
  },
  {
   "cell_type": "code",
   "execution_count": 85,
   "metadata": {
    "collapsed": false
   },
   "outputs": [
    {
     "name": "stdout",
     "output_type": "stream",
     "text": [
      "3209\n"
     ]
    }
   ],
   "source": [
    "matrix=[]\n",
    "for combo in combo_list:\n",
    "    #multiply each split by the each stock's expected growth to get the cumilative growth \n",
    "    #and then multiply the split by beta to get the beta mean\n",
    "    #save the growth and beta into a list\n",
    "    #iterate for each split\n",
    "    minimatrix=[]\n",
    "    df = pd.Series(combo)\n",
    "    #Format integers to floats\n",
    "    stocks[\"Expected Growth\"]=stocks['Expected Annual Growth in Earning'].astype('float64')\\\n",
    "    +stocks['Annual Dividend Income'].astype('float64')\n",
    "    stocks[\"Expected Growth\"]=df.multiply(stocks['Expected Growth'].astype('float64'))\n",
    "    #Shorten the floats to the third decimal point\n",
    "    minimatrix.append(float(\"{0:.3f}\".format(sum(stocks[\"Expected Growth\"]))))\n",
    "    minimatrix.append(float(\"{0:.3f}\".format(sum(df.multiply(stocks[\"Beta\"])))))\n",
    "    matrix.append(minimatrix)\n",
    "#How many possible solutions do we have\n",
    "print(len(matrix))\n",
    "    "
   ]
  },
  {
   "cell_type": "code",
   "execution_count": 102,
   "metadata": {
    "collapsed": false
   },
   "outputs": [
    {
     "name": "stdout",
     "output_type": "stream",
     "text": [
      "optimal solution found at index 2632\n",
      "expected growth is 12.636%, expected beta is 0.885\n"
     ]
    }
   ],
   "source": [
    "#Select Min Growth and Max Beta\n",
    "minimum_growth,max_beta=12,.9\n",
    "\n",
    "optimal_solution_found=False\n",
    "\n",
    "for index in range(len(matrix)):\n",
    "    if matrix[index][0]>minimum_growth and matrix[index][1]<max_beta:\n",
    "        minimum_growth=matrix[index][0]\n",
    "        max_beta=matrix[index][1]\n",
    "        winning_index=index\n",
    "        optimal_solution_found=True        \n",
    "if optimal_solution_found==True:\n",
    "    print(\"optimal solution found at index {}\".format(winning_index))\n",
    "    print(\"expected growth is {}%, expected beta is {}\".format(matrix[winning_index][0],matrix[winning_index][1]))\n",
    "elif optimal_solution_found==False:\n",
    "    #Create additional list in combo_list with zeroes and assign its index to winning index\n",
    "    #In case someone chooses the index and uses it on the stock table the answers will be zero\n",
    "    null_list=[]\n",
    "    combo_list.append([null_list.append(0) for x in range(13)])\n",
    "    winning_index=len(combo_list)-1\n",
    "    print(\"optimal solution not found\")\n",
    "\n"
   ]
  },
  {
   "cell_type": "code",
   "execution_count": 103,
   "metadata": {
    "collapsed": false
   },
   "outputs": [
    {
     "name": "stdout",
     "output_type": "stream",
     "text": [
      "            Stock  Optimal Stock Distribution\n",
      "0            Nike                       0.148\n",
      "1       Accenture                       0.034\n",
      "2          Boeing                       0.027\n",
      "3          Disney                       0.141\n",
      "4            BB&T                       0.032\n",
      "5             J&J                       0.142\n",
      "6   United Health                       0.074\n",
      "7            Visa                       0.115\n",
      "8          Amazon                       0.031\n",
      "9       Microsoft                       0.025\n",
      "10         Google                       0.063\n",
      "11     Salesforce                       0.035\n",
      "12        Verizon                       0.133\n"
     ]
    }
   ],
   "source": [
    "stocks[\"Optimal Stock Distribution\"]=combo_list[winning_index]\n",
    "print(stocks[[\"Stock\",\"Optimal Stock Distribution\"]])"
   ]
  },
  {
   "cell_type": "code",
   "execution_count": null,
   "metadata": {
    "collapsed": true
   },
   "outputs": [],
   "source": []
  },
  {
   "cell_type": "code",
   "execution_count": null,
   "metadata": {
    "collapsed": true
   },
   "outputs": [],
   "source": []
  }
 ],
 "metadata": {
  "kernelspec": {
   "display_name": "Python [Root]",
   "language": "python",
   "name": "Python [Root]"
  },
  "language_info": {
   "codemirror_mode": {
    "name": "ipython",
    "version": 3
   },
   "file_extension": ".py",
   "mimetype": "text/x-python",
   "name": "python",
   "nbconvert_exporter": "python",
   "pygments_lexer": "ipython3",
   "version": "3.5.2"
  }
 },
 "nbformat": 4,
 "nbformat_minor": 0
}
